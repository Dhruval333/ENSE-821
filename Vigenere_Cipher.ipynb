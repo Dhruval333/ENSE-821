{
  "nbformat": 4,
  "nbformat_minor": 0,
  "metadata": {
    "colab": {
      "name": "Vigenere Cipher.ipynb",
      "provenance": [],
      "collapsed_sections": [],
      "authorship_tag": "ABX9TyOtGA5TlUamE+oVr+KyoMSD",
      "include_colab_link": true
    },
    "kernelspec": {
      "name": "python3",
      "display_name": "Python 3"
    }
  },
  "cells": [
    {
      "cell_type": "markdown",
      "metadata": {
        "id": "view-in-github",
        "colab_type": "text"
      },
      "source": [
        "<a href=\"https://colab.research.google.com/github/Dhruval333/file/blob/master/Vigenere_Cipher.ipynb\" target=\"_parent\"><img src=\"https://colab.research.google.com/assets/colab-badge.svg\" alt=\"Open In Colab\"/></a>"
      ]
    },
    {
      "cell_type": "code",
      "metadata": {
        "colab": {
          "base_uri": "https://localhost:8080/"
        },
        "id": "JcyZ8k1ZPs8X",
        "outputId": "a22a552c-50e3-499b-8db8-f75c2f360d7f"
      },
      "source": [
        " \n",
        "def generateKey(cipher_text, key): \n",
        "    key = list(key) \n",
        "    if len(cipher_text) == len(key): \n",
        "        return(key) \n",
        "    else: \n",
        "        for i in range(len(cipher_text) - \n",
        "                       len(key)): \n",
        "            key.append(key[i % len(key)]) \n",
        "    return(\"\" . join(key)) \n",
        "      \n",
        "def decryptText(cipher_text, key): \n",
        "    orig_text = [] \n",
        "    for i in range(len(cipher_text)): \n",
        "        x = (ord(cipher_text[i]) - \n",
        "             ord(key[i])) % 26\n",
        "        x += ord('A') \n",
        "        orig_text.append(chr(x)) \n",
        "    return(\"\" . join(orig_text)) \n",
        "      \n",
        " \n",
        "if __name__ == \"__main__\": \n",
        "    cipher_text = \"ECYWCTPOYVOIKIYHHZVPJ\"\n",
        "    keyword = \"DOG\"\n",
        "    key = generateKey(cipher_text, keyword) \n",
        "    print(\"Ciphertext :\", cipher_text) \n",
        "    print(\"Decrypted Text :\", decryptText(cipher_text, key))"
      ],
      "execution_count": null,
      "outputs": [
        {
          "output_type": "stream",
          "text": [
            "Ciphertext : ECYWCTPOYVOIKIYHHZVPJ\n",
            "Decrypted Text : BOSTONMASSACHUSETTSBD\n"
          ],
          "name": "stdout"
        }
      ]
    },
    {
      "cell_type": "code",
      "metadata": {
        "id": "KRAyuBVlPuL3"
      },
      "source": [
        ""
      ],
      "execution_count": null,
      "outputs": []
    }
  ]
}