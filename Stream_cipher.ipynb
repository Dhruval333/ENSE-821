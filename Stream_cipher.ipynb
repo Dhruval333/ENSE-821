{
  "nbformat": 4,
  "nbformat_minor": 0,
  "metadata": {
    "colab": {
      "name": "Stream cipher.ipynb",
      "provenance": [],
      "authorship_tag": "ABX9TyPbK9Y3qpvhDfL1qQvFzQFt",
      "include_colab_link": true
    },
    "kernelspec": {
      "name": "python3",
      "display_name": "Python 3"
    }
  },
  "cells": [
    {
      "cell_type": "markdown",
      "metadata": {
        "id": "view-in-github",
        "colab_type": "text"
      },
      "source": [
        "<a href=\"https://colab.research.google.com/github/Dhruval333/ENSE-821/blob/master/Stream_cipher.ipynb\" target=\"_parent\"><img src=\"https://colab.research.google.com/assets/colab-badge.svg\" alt=\"Open In Colab\"/></a>"
      ]
    },
    {
      "cell_type": "code",
      "metadata": {
        "id": "WOoyuQgek-B_",
        "colab": {
          "base_uri": "https://localhost:8080/"
        },
        "outputId": "78e20439-fcf8-4a2e-c0fc-c8f72dbd5699"
      },
      "source": [
        "\r\n",
        "import random\r\n",
        "\r\n",
        "def Crypt(string,key,encrypt=1):\r\n",
        "   \r\n",
        "    random.seed(key)\r\n",
        "    alphabet = 2 * \"ABCDEFGHIJKLMNOPQRSTUVWXYZabcdefghijklmnopqrstuvwxyz1234567890\"\r\n",
        "    lenalpha = int(len(alphabet)/2)\r\n",
        "    \r\n",
        "    if encrypt:\r\n",
        "\r\n",
        "        return ''.join([alphabet[alphabet.index(string[p]) + lenalpha - int(lenalpha * random.random())] for p in range(len(string))])\r\n",
        "    else:\r\n",
        "       \r\n",
        "        return ''.join([alphabet[alphabet.index(string[p]) - lenalpha + int(lenalpha * random.random())] for p in range(len(string))])\r\n",
        "\r\n",
        "if __name__ == '__main__':\r\n",
        "    message = input(\"Input your message: \")\r\n",
        "    key = input(\"Input a key: \")\r\n",
        "    finished_with_the_user = False\r\n",
        "    while not finished_with_the_user:\r\n",
        "        encrypt_question = input(\"Encrypt or decrypt a message?(1,0): \")\r\n",
        "        if encrypt_question.isdigit():\r\n",
        "            finished_with_the_user = True\r\n",
        "            encrypt_question = int(encrypt_question)\r\n",
        "        else:\r\n",
        "            print(\"Please input a valid number.\")\r\n",
        "    print(Crypt(message, key, encrypt_question))\r\n",
        "    input(\"Press enter to exit.\")\r\n",
        "\r\n"
      ],
      "execution_count": 6,
      "outputs": [
        {
          "output_type": "stream",
          "text": [
            "Input your message: iliketoplayfootball\n",
            "Input a key: 1234\n",
            "Encrypt or decrypt a message?(1,0): 1\n",
            "T8r4eUEfatRHADIYGbp\n",
            "Press enter to exit.\n"
          ],
          "name": "stdout"
        }
      ]
    },
    {
      "cell_type": "code",
      "metadata": {
        "id": "FjMrVnmtmblC",
        "colab": {
          "base_uri": "https://localhost:8080/"
        },
        "outputId": "85ce9386-ea74-415d-82e6-7c4f2e44a96c"
      },
      "source": [
        "\r\n",
        "import random\r\n",
        "\r\n",
        "def Crypt(string,key,encrypt=1):\r\n",
        "   \r\n",
        "    random.seed(key)\r\n",
        "\r\n",
        "    alphabet = 2 * \"ABCDEFGHIJKLMNOPQRSTUVWXYZabcdefghijklmnopqrstuvwxyz1234567890\"\r\n",
        "   \r\n",
        "    lenalpha = int(len(alphabet)/2)\r\n",
        "    if encrypt:\r\n",
        "     \r\n",
        "        return ''.join([alphabet[alphabet.index(string[p]) + lenalpha - int(lenalpha * random.random())] for p in range(len(string))])\r\n",
        "    else:\r\n",
        "        \r\n",
        "        return ''.join([alphabet[alphabet.index(string[p]) - lenalpha + int(lenalpha * random.random())] for p in range(len(string))])\r\n",
        "\r\n",
        "if __name__ == '__main__':\r\n",
        "    message = input(\"Input your message: \")\r\n",
        "    key = input(\"Input a key: \")\r\n",
        "    finished_with_the_user = False\r\n",
        "    while not finished_with_the_user:\r\n",
        "        encrypt_question = input(\"Encrypt or decrypt a message?(1,0): \")\r\n",
        "        if encrypt_question.isdigit():\r\n",
        "            finished_with_the_user = True\r\n",
        "            encrypt_question = int(encrypt_question)\r\n",
        "        else:\r\n",
        "            print(\"Please input a valid number.\")\r\n",
        "    print(Crypt(message, key, encrypt_question))\r\n",
        "    input(\"Press enter to exit.\")\r\n",
        "\r\n"
      ],
      "execution_count": 8,
      "outputs": [
        {
          "output_type": "stream",
          "text": [
            "Input your message: T8r4eUEfatRHADIYGbp\n",
            "Input a key: 1234\n",
            "Encrypt or decrypt a message?(1,0): 0\n",
            "iliketoplayfootball\n",
            "Press enter to exit.\n"
          ],
          "name": "stdout"
        }
      ]
    },
    {
      "cell_type": "code",
      "metadata": {
        "id": "BNrtOEJ4EKWE"
      },
      "source": [
        ""
      ],
      "execution_count": null,
      "outputs": []
    }
  ]
}