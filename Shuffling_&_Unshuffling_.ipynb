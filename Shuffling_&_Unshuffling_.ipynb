{
  "nbformat": 4,
  "nbformat_minor": 0,
  "metadata": {
    "colab": {
      "name": "Shuffling & Unshuffling .ipynb",
      "provenance": [],
      "collapsed_sections": [],
      "authorship_tag": "ABX9TyPJgU7mfAF8d1bCnOwval32",
      "include_colab_link": true
    },
    "kernelspec": {
      "name": "python3",
      "display_name": "Python 3"
    }
  },
  "cells": [
    {
      "cell_type": "markdown",
      "metadata": {
        "id": "view-in-github",
        "colab_type": "text"
      },
      "source": [
        "<a href=\"https://colab.research.google.com/github/Dhruval333/file/blob/master/Shuffling_%26_Unshuffling_.ipynb\" target=\"_parent\"><img src=\"https://colab.research.google.com/assets/colab-badge.svg\" alt=\"Open In Colab\"/></a>"
      ]
    },
    {
      "cell_type": "code",
      "metadata": {
        "colab": {
          "base_uri": "https://localhost:8080/"
        },
        "id": "KYCaxbakUUbo",
        "outputId": "591198af-740e-4ce9-c714-17a90297b4af"
      },
      "source": [
        "import random\r\n",
        "import datetime\r\n",
        "\r\n",
        "def getperm(l):\r\n",
        "    seed = sum(sum(a) for a in l)\r\n",
        "    random.seed(seed)\r\n",
        "    perm = list(range(len(l)))\r\n",
        "    random.shuffle(perm)\r\n",
        "    return perm\r\n",
        "\r\n",
        "def shuffle(l):\r\n",
        "    perm = getperm(l)\r\n",
        "    l[:] = [l[j] for j in perm]\r\n",
        "\r\n",
        "def unshuffle(l):\r\n",
        "    perm = getperm(l)\r\n",
        "    res = [None] * len(l)\r\n",
        "    for i, j in enumerate(perm):\r\n",
        "        res[j] = l[i]\r\n",
        "    l[:] = res\r\n",
        "\r\n",
        "# Driver code \r\n",
        "if __name__ == \"__main__\": \r\n",
        "    l=[(1,2),(3,4),(5,6),(7,8),(9,10),(10,12)] \r\n",
        "    start = datetime.datetime.now()\r\n",
        "    for i in range(10):\r\n",
        "     shuffle(l)\r\n",
        "     print(\"Shuffel list \", l)\r\n",
        "     \r\n",
        "    end = datetime.datetime.now()\r\n",
        "    temp = end - start\r\n",
        "    print(f\"Runtime is {temp.total_seconds()*1000}\")\r\n",
        "    \r\n",
        "    for i in range(10):\r\n",
        "     unshuffle(l)\r\n",
        "     print(\"Unshuffel list\",l) \r\n",
        "\r\n",
        "    end = datetime.datetime.now()\r\n",
        "    temp = end - start\r\n",
        "    print(f\"Runtime is {temp.total_seconds()*1000}\")"
      ],
      "execution_count": null,
      "outputs": [
        {
          "output_type": "stream",
          "text": [
            "Shuffel list  [(7, 8), (9, 10), (1, 2), (3, 4), (10, 12), (5, 6)]\n",
            "Shuffel list  [(3, 4), (10, 12), (7, 8), (9, 10), (5, 6), (1, 2)]\n",
            "Shuffel list  [(9, 10), (5, 6), (3, 4), (10, 12), (1, 2), (7, 8)]\n",
            "Shuffel list  [(10, 12), (1, 2), (9, 10), (5, 6), (7, 8), (3, 4)]\n",
            "Shuffel list  [(5, 6), (7, 8), (10, 12), (1, 2), (3, 4), (9, 10)]\n",
            "Shuffel list  [(1, 2), (3, 4), (5, 6), (7, 8), (9, 10), (10, 12)]\n",
            "Shuffel list  [(7, 8), (9, 10), (1, 2), (3, 4), (10, 12), (5, 6)]\n",
            "Shuffel list  [(3, 4), (10, 12), (7, 8), (9, 10), (5, 6), (1, 2)]\n",
            "Shuffel list  [(9, 10), (5, 6), (3, 4), (10, 12), (1, 2), (7, 8)]\n",
            "Shuffel list  [(10, 12), (1, 2), (9, 10), (5, 6), (7, 8), (3, 4)]\n",
            "Runtime is 3.1740000000000004\n",
            "Unshuffel list [(9, 10), (5, 6), (3, 4), (10, 12), (1, 2), (7, 8)]\n",
            "Unshuffel list [(3, 4), (10, 12), (7, 8), (9, 10), (5, 6), (1, 2)]\n",
            "Unshuffel list [(7, 8), (9, 10), (1, 2), (3, 4), (10, 12), (5, 6)]\n",
            "Unshuffel list [(1, 2), (3, 4), (5, 6), (7, 8), (9, 10), (10, 12)]\n",
            "Unshuffel list [(5, 6), (7, 8), (10, 12), (1, 2), (3, 4), (9, 10)]\n",
            "Unshuffel list [(10, 12), (1, 2), (9, 10), (5, 6), (7, 8), (3, 4)]\n",
            "Unshuffel list [(9, 10), (5, 6), (3, 4), (10, 12), (1, 2), (7, 8)]\n",
            "Unshuffel list [(3, 4), (10, 12), (7, 8), (9, 10), (5, 6), (1, 2)]\n",
            "Unshuffel list [(7, 8), (9, 10), (1, 2), (3, 4), (10, 12), (5, 6)]\n",
            "Unshuffel list [(1, 2), (3, 4), (5, 6), (7, 8), (9, 10), (10, 12)]\n",
            "Runtime is 5.548\n"
          ],
          "name": "stdout"
        }
      ]
    },
    {
      "cell_type": "code",
      "metadata": {
        "id": "ofn6Uhr2U2wd"
      },
      "source": [
        ""
      ],
      "execution_count": null,
      "outputs": []
    },
    {
      "cell_type": "code",
      "metadata": {
        "id": "jelHmDYdXRLz"
      },
      "source": [
        ""
      ],
      "execution_count": null,
      "outputs": []
    }
  ]
}